{
 "cells": [
  {
   "cell_type": "markdown",
   "id": "2f0367e8",
   "metadata": {},
   "source": [
    "# EEMD + LGBM"
   ]
  },
  {
   "cell_type": "markdown",
   "id": "7ba9ee40",
   "metadata": {},
   "source": [
    "---"
   ]
  },
  {
   "cell_type": "code",
   "execution_count": null,
   "id": "7c9a71a6",
   "metadata": {
    "ExecuteTime": {
     "end_time": "2023-09-19T07:02:51.147591Z",
     "start_time": "2023-09-19T07:02:51.008841Z"
    }
   },
   "outputs": [],
   "source": [
    "# DataFrame\n",
    "import pandas as pd\n",
    "import numpy as np\n",
    "import random\n",
    "from datetime import date\n",
    "import time\n",
    "\n",
    "# Visualization\n",
    "import matplotlib.pyplot as plt\n",
    "import matplotlib\n",
    "import warnings\n",
    "warnings.simplefilter(action='ignore')\n",
    "\n",
    "# Save the log\n",
    "import os\n",
    "import pickle\n",
    "\n",
    "# EEMD\n",
    "from PyEMD import EEMD\n",
    "\n",
    "# LGBM\n",
    "from lightgbm import LGBMRegressor\n",
    "\n",
    "# Metric \n",
    "from sklearn.metrics import mean_absolute_error\n",
    "from sklearn.metrics import root_mean_squared_error\n",
    "from sklearn.metrics import r2_score"
   ]
  },
  {
   "cell_type": "code",
   "execution_count": null,
   "id": "1bcd5b3a",
   "metadata": {},
   "outputs": [],
   "source": [
    "# set the seed\n",
    "def set_seed(seed: int):\n",
    "    random.seed(seed)\n",
    "    np.random.seed(seed)\n",
    "    os.environ[\"PYTHONHASHSEED\"] = str(seed)"
   ]
  },
  {
   "cell_type": "code",
   "execution_count": null,
   "id": "1b8908fc",
   "metadata": {
    "ExecuteTime": {
     "end_time": "2023-09-19T07:02:53.178336Z",
     "start_time": "2023-09-19T07:02:53.130867Z"
    }
   },
   "outputs": [],
   "source": [
    "# Minus\n",
    "matplotlib.rcParams['axes.unicode_minus'] = False\n",
    "# font\n",
    "plt.rc('font', family='Serif')"
   ]
  },
  {
   "cell_type": "code",
   "execution_count": null,
   "id": "9b41fb88",
   "metadata": {
    "ExecuteTime": {
     "end_time": "2023-09-19T07:03:07.546404Z",
     "start_time": "2023-09-19T07:03:07.500159Z"
    }
   },
   "outputs": [],
   "source": [
    "def split_data(eIMF_df):\n",
    "    \n",
    "    train_df = eIMF_df[eIMF_df['Date']<'2022-08-01'].reset_index(drop=True)\n",
    "    test_df = eIMF_df[eIMF_df['Date']>='2022-08-01'].reset_index(drop=True)\n",
    "    return train_df, test_df"
   ]
  },
  {
   "cell_type": "code",
   "execution_count": null,
   "id": "b907c208",
   "metadata": {
    "ExecuteTime": {
     "end_time": "2023-09-19T07:03:07.877925Z",
     "start_time": "2023-09-19T07:03:07.851851Z"
    }
   },
   "outputs": [],
   "source": [
    "def eemd_fit(df):\n",
    "    # Define signal\n",
    "    t = np.array(df['Date']) # x-axis\n",
    "    s = np.array(df['y']) # y-axis\n",
    "\n",
    "    eemd = EEMD()\n",
    "    eemd.noise_seed(1234)\n",
    "\n",
    "    eIMFs = eemd.eemd(s, t) \n",
    "    nIMFs = eIMFs.shape[0] \n",
    "    \n",
    "    imfs, residue = eemd.get_imfs_and_residue()\n",
    "\n",
    "    all_eIMFs_df = pd.DataFrame(eIMFs).transpose() \n",
    "    all_eIMFs_df[nIMFs] = residue \n",
    "    \n",
    "    for column in df.drop(columns=['y']).columns:\n",
    "        all_eIMFs_df[column] = df[column]\n",
    "    \n",
    "    # IMF & Residue \n",
    "    plt.figure(figsize=(12, nIMFs*2)) \n",
    "    for i in range(nIMFs):\n",
    "        plt.subplot(nIMFs+1, 1, i+1) \n",
    "        plt.plot(df['Date'], all_eIMFs_df[i], 'g')\n",
    "        plt.title('IMF '+str(i+1), fontsize=10)\n",
    "\n",
    "    # Residue plot\n",
    "    plt.subplot(nIMFs+1, 1, nIMFs+1)\n",
    "    plt.plot(df['Date'], all_eIMFs_df[nIMFs], 'r')\n",
    "    plt.title('Residue', fontsize=10)\n",
    "\n",
    "    plt.tight_layout()\n",
    "    plt.show()\n",
    "    \n",
    "    return all_eIMFs_df, nIMFs # eIMF+Residue"
   ]
  },
  {
   "cell_type": "code",
   "execution_count": null,
   "id": "265e715d",
   "metadata": {
    "ExecuteTime": {
     "end_time": "2023-09-19T07:03:08.986172Z",
     "start_time": "2023-09-19T07:03:08.983874Z"
    }
   },
   "outputs": [],
   "source": [
    "def extract_eIMFs(all_eIMFs_df, nIMFs):\n",
    "    all_eIMFs_dict = {}\n",
    "    features = list(all_eIMFs_df.drop(columns = range(nIMFs+1)).columns)\n",
    " \n",
    "    for i in range(nIMFs+1):\n",
    "        tmp_df = all_eIMFs_df[features+[i]] \n",
    "        tmp_df.columns=features+['y'] \n",
    "        all_eIMFs_dict[f'eIMFs_{i}'] = tmp_df \n",
    "                \n",
    "    return all_eIMFs_dict "
   ]
  },
  {
   "cell_type": "code",
   "execution_count": null,
   "id": "1dbe9b44",
   "metadata": {
    "ExecuteTime": {
     "end_time": "2023-09-19T07:03:09.498369Z",
     "start_time": "2023-09-19T07:03:09.490230Z"
    }
   },
   "outputs": [],
   "source": [
    "def EEMD_LGBM(all_eIMFs_dict):\n",
    "    \n",
    "    pred_dict = {}\n",
    "    \n",
    "    for i in all_eIMFs_dict.keys():\n",
    "        print(f'--------Total: 0~{len(all_eIMFs_dict)-1} eIMFs, Now: {i} --------')\n",
    "      \n",
    "        eIMF_df = all_eIMFs_dict[i]\n",
    "        train_df, test_df = split_data(eIMF_df)\n",
    "        predictions = []\n",
    "       \n",
    "        for test_date in test_df['Date']:\n",
    "            # Use data up to the day before the test date to train the model\n",
    "            train_until_test_df = eIMF_df[eIMF_df['Date'] < test_date]\n",
    "\n",
    "            X = train_until_test_df.drop(columns = ['Date', 'y', 'Product'])\n",
    "            y = train_until_test_df['y']\n",
    "            \n",
    "            lgbm_model = LGBMRegressor()\n",
    "            \n",
    "            # fitting the model\n",
    "            best_model_fit = lgbm_model.fit(X, y)\n",
    "\n",
    "            test_X = eIMF_df[eIMF_df['Date'] == test_date]\n",
    "            test_X = test_X.drop(columns = ['Date', 'y', 'Product'])\n",
    "        \n",
    "            # Predict the next day's value and add it to the predictions list\n",
    "            prediction = best_model_fit.predict(test_X)[0]\n",
    "            predictions.append(prediction)  # replace negative predictions with 0\n",
    "\n",
    "        # Make the Result DataFrame\n",
    "        res_df = test_df.copy()\n",
    "        res_df['Pred'] = predictions\n",
    "        res_df.set_index('Date', inplace=True)\n",
    "        # res_df: ['y'','Pred'] index='Date'\n",
    "        pred_dict[i] = res_df\n",
    "        \n",
    "    return pred_dict"
   ]
  },
  {
   "cell_type": "code",
   "execution_count": null,
   "id": "c24668b4",
   "metadata": {
    "ExecuteTime": {
     "end_time": "2023-09-19T07:03:10.352953Z",
     "start_time": "2023-09-19T07:03:10.345183Z"
    }
   },
   "outputs": [],
   "source": [
    "def save_model(product_code, model_dict):\n",
    "    today = date.today()\n",
    "    folder_path = 'Saved_Model/EEMD+LGBM'\n",
    "    file_name = f'{product_code}_{today.month:02d}{today.day:02d}.pkl'\n",
    "    save_path = os.path.join(folder_path, file_name)\n",
    "    \n",
    "    if not os.path.exists(folder_path):\n",
    "        os.makedirs(folder_path)\n",
    "    with open(save_path, 'wb') as f:\n",
    "        pickle.dump(model_dict, f)\n",
    "    return model_dict"
   ]
  },
  {
   "cell_type": "code",
   "execution_count": null,
   "id": "5de9ffea",
   "metadata": {
    "ExecuteTime": {
     "end_time": "2023-09-19T07:03:11.042386Z",
     "start_time": "2023-09-19T07:03:11.000488Z"
    }
   },
   "outputs": [],
   "source": [
    "def load_model(file_name):\n",
    "    file_path = f'Saved_Model/EEMD+LGBM/{file_name}'\n",
    "    \n",
    "    with open(file_path, 'rb') as file:\n",
    "        model_dict= pickle.load(file)\n",
    "    \n",
    "    return model_dict"
   ]
  },
  {
   "cell_type": "code",
   "execution_count": null,
   "id": "40503729",
   "metadata": {
    "ExecuteTime": {
     "end_time": "2023-09-19T07:15:52.492016Z",
     "start_time": "2023-09-19T07:15:52.481732Z"
    }
   },
   "outputs": [],
   "source": [
    "def make_all_result_df(pred_dict):\n",
    "    all_df = pd.DataFrame()\n",
    "    for tmp_df in pred_dict.values():\n",
    "        all_df = pd.concat([all_df, tmp_df], axis=1)\n",
    "    pred_df = all_df['Pred'].sum(axis=1)\n",
    "    actual_df = all_df['y'].sum(axis=1)\n",
    "\n",
    "    all_result_df = pd.DataFrame({'Pred': pred_df, 'y': actual_df})\n",
    "    all_result_df.loc[all_result_df['Pred']<0, 'Pred']=0 \n",
    "\n",
    "    # all_res_df: ['y'','Pred'] index='Date'\n",
    "    return all_result_df"
   ]
  },
  {
   "cell_type": "code",
   "execution_count": null,
   "id": "6d8fe2e9",
   "metadata": {
    "ExecuteTime": {
     "end_time": "2023-09-19T07:03:18.384448Z",
     "start_time": "2023-09-19T07:03:18.375573Z"
    }
   },
   "outputs": [],
   "source": [
    "\"\"\"\n",
    "Plot the actual vs predition and save the figure in the given directory\n",
    "\"\"\"\n",
    "def actual_pred_plot(product_code, pred_dict, all_result_df, metric_df):\n",
    " \n",
    "    pred_dict['all_result'] = all_result_df\n",
    "    save_path = os.path.join(\"Result\", \"EEMD+LGBM\", product_code)\n",
    "\n",
    "    for i, pred_df in enumerate(pred_dict.values()):\n",
    "        img_n = len(pred_dict)\n",
    "        title = f\"Pred Actual Plot - ({i+1}/{img_n-1})'s eIMF\"\n",
    "        actual = pred_df['y']\n",
    "        pred = pred_df['Pred']\n",
    "        save_name = f'{product_code}_eIMF_{i+1}'\n",
    "        \n",
    "        if i == img_n-1: \n",
    "            title = f\"{product_code}-All Result\"\n",
    "            save_name = f'{product_code}_all_result'\n",
    "\n",
    "        plt.figure(figsize=(16, 8))\n",
    "        plt.title(title, fontsize=20)\n",
    "        plt.xlabel(\"Date\", fontsize=14)\n",
    "        plt.ylabel(\"Order Demand\", fontsize=14)\n",
    "        plt.plot(actual, label ='Actual', color='r')\n",
    "        plt.plot(pred, label='Prediction', color='b')\n",
    "        plt.legend(loc=\"upper right\")\n",
    "        \n",
    "        if not os.path.exists(save_path):\n",
    "            os.makedirs(save_path)\n",
    "        # save the figure\n",
    "        plt.savefig(os.path.join(save_path, save_name+'.png'))\n",
    "        plt.show()\n",
    "        \n",
    "    metric_df.to_csv(os.path.join(save_path, f'{product_code}_metric.csv'), encoding=\"utf-8-sig\")\n",
    "    all_result_df.to_csv(os.path.join(save_path, f'{product_code}_total_result.csv'), encoding=\"utf-8-sig\")\n",
    "    \n",
    "    del pred_dict['all_result']\n",
    "    plt.close('all') # close all figures to free up memory"
   ]
  },
  {
   "cell_type": "code",
   "execution_count": null,
   "id": "28dd74b4",
   "metadata": {
    "ExecuteTime": {
     "end_time": "2023-09-19T07:03:19.007022Z",
     "start_time": "2023-09-19T07:03:18.970942Z"
    }
   },
   "outputs": [],
   "source": [
    "def mape(actual, pred): \n",
    "    actual, pred = np.array(actual), np.array(pred)\n",
    "    return np.mean(np.abs((actual - pred) / (actual+1)))\n",
    "\n",
    "def nrmse(y_true, y_pred):\n",
    "    mse = root_mean_squared_error(y_true, y_pred)\n",
    "    target_mean = np.mean(y_true)\n",
    "    nrmse = mse / target_mean\n",
    "    return nrmse\n",
    "\n",
    "def nmae(y_true, y_pred):\n",
    "    mae = mean_absolute_error(y_true, y_pred)\n",
    "    target_mean = np.mean(y_true)\n",
    "    nmae = mae / target_mean\n",
    "    return nmae"
   ]
  },
  {
   "cell_type": "code",
   "execution_count": null,
   "id": "83451baa",
   "metadata": {
    "ExecuteTime": {
     "end_time": "2023-09-19T07:09:26.214540Z",
     "start_time": "2023-09-19T07:09:26.212680Z"
    }
   },
   "outputs": [],
   "source": [
    "def calculate_metrics(pred_df):\n",
    "   \n",
    "    metric_df = pd.DataFrame(columns=['MAPE', 'RMSE', 'MAE', 'NRMSE', 'NMAE', 'R2'])\n",
    "    \n",
    "    actual = pred_df['y']\n",
    "    pred = pred_df['Pred']\n",
    "\n",
    "    MAPE = mape(actual, pred) \n",
    "    RMSE = root_mean_squared_error(actual, pred)\n",
    "    MAE = mean_absolute_error(actual,pred) \n",
    "    NRMSE = nrmse(actual,pred) \n",
    "    NMAE = nmae(actual,pred) \n",
    "    R2 = r2_score(actual, pred)\n",
    "\n",
    "    tmp_df = pd.DataFrame({'MAPE':[round(MAPE, 4)],\n",
    "                           'RMSE':[round(RMSE, 4)],\n",
    "                           'MAE':[round(MAE, 4)],\n",
    "                           'NRMSE':[round(NRMSE, 4)],\n",
    "                           'NMAE':[round(NMAE, 4)],\n",
    "                           'R2': [round(R2, 4)]})\n",
    "\n",
    "    metric_df = pd.concat([metric_df, tmp_df])\n",
    "    return metric_df"
   ]
  },
  {
   "cell_type": "code",
   "execution_count": null,
   "id": "e560ce75",
   "metadata": {
    "ExecuteTime": {
     "end_time": "2023-09-19T07:03:19.777197Z",
     "start_time": "2023-09-19T07:03:19.765469Z"
    }
   },
   "outputs": [],
   "source": [
    "def make_metric_df(pred_dict, all_result_df):\n",
    "    metric_df = pd.DataFrame(columns=['MAPE', 'RMSE', 'MAE', 'NRMSE', 'NMAE', 'R2'])\n",
    "\n",
    "    for i, pred_df in pred_dict.items():\n",
    "        imf_df = calculate_metrics(pred_df)\n",
    "        metric_df = pd.concat([metric_df, imf_df])\n",
    "    \n",
    "    imf_idx = pd.Index(['eIMF_'+str(i+1) for i in range(len(pred_dict))]) # changed result_dict to pred_dict\n",
    "    metric_df.index = imf_idx # Assign the created index to metric_df\n",
    "    metric_df = pd.concat([metric_df, calculate_metrics(all_result_df)], axis=0)\n",
    "    metric_df = metric_df.rename(index={metric_df.index[-1]: 'All'})\n",
    "    \n",
    "    return metric_df"
   ]
  },
  {
   "cell_type": "code",
   "execution_count": null,
   "id": "9ce9ab54",
   "metadata": {
    "ExecuteTime": {
     "end_time": "2023-09-19T07:03:20.332009Z",
     "start_time": "2023-09-19T07:03:20.291093Z"
    }
   },
   "outputs": [],
   "source": [
    "def execute_EEMD_LGBM(df, product_code, str_code):\n",
    "    start_time = time.time()\n",
    "\n",
    "    product_df = df[df['Product']== product_code].reset_index(drop=True)\n",
    "\n",
    "    all_eIMFs_df, nIMFs = eemd_fit(product_df)\n",
    "    all_eIMFs_dict = extract_eIMFs(all_eIMFs_df, nIMFs)\n",
    "\n",
    "    pred_dict = EEMD_LGBM(all_eIMFs_dict) #dictionary, time_steps, epochs\n",
    "    all_result_df = make_all_result_df(pred_dict)\n",
    "\n",
    "    metric_df = make_metric_df(pred_dict, all_result_df)\n",
    "\n",
    "    actual_pred_plot(str_code, pred_dict, all_result_df, metric_df)\n",
    "    \n",
    "    elapsed_time_seconds = time.time() - start_time\n",
    "    elapsed_time_minutes = elapsed_time_seconds / 60\n",
    "    print(\"실행 시간: {:.2f} 분\".format(elapsed_time_minutes))\n",
    "    \n",
    "    return metric_df, all_result_df"
   ]
  },
  {
   "cell_type": "markdown",
   "id": "cd5269ad",
   "metadata": {},
   "source": [
    "---"
   ]
  },
  {
   "cell_type": "code",
   "execution_count": null,
   "id": "7537089e",
   "metadata": {
    "ExecuteTime": {
     "end_time": "2023-09-19T07:02:55.319551Z",
     "start_time": "2023-09-19T07:02:55.299670Z"
    }
   },
   "outputs": [],
   "source": [
    "df = pd.read_csv(\"../Data/dataset.csv\")\n",
    "df['Date'] = pd.to_datetime(df['Date'])\n",
    "df = df.drop(columns=['년월'])"
   ]
  },
  {
   "cell_type": "code",
   "execution_count": null,
   "id": "006eec1f",
   "metadata": {
    "ExecuteTime": {
     "end_time": "2023-09-19T07:09:26.210718Z",
     "start_time": "2023-09-19T07:03:23.352750Z"
    },
    "scrolled": false
   },
   "outputs": [],
   "source": [
    "set_seed(1234)\n",
    "metric_df = pd.DataFrame()\n",
    "result_df = pd.DataFrame()\n",
    "\n",
    "target_code = ['Office Product', 'Packaging material', 'Pharmaceuticals']\n",
    "for code in target_code:\n",
    "    \n",
    "    print(\"==================================\")\n",
    "    print(f\"========== { str(code) } ==========\")\n",
    "    print(\"==================================\")\n",
    "    all_metric, all_result = execute_EEMD_LGBM(df, code, str(code))\n",
    "    \n",
    "    metric_df = pd.concat([metric_df, all_metric])\n",
    "    result_df = pd.concat([result_df, all_result])\n",
    "\n",
    "prod_metric_df = metric_df.loc['All']\n",
    "prod_metric_df.index = target_code"
   ]
  }
 ],
 "metadata": {
  "kernelspec": {
   "display_name": "ts_env_",
   "language": "python",
   "name": "ts_env"
  },
  "language_info": {
   "codemirror_mode": {
    "name": "ipython",
    "version": 3
   },
   "file_extension": ".py",
   "mimetype": "text/x-python",
   "name": "python",
   "nbconvert_exporter": "python",
   "pygments_lexer": "ipython3",
   "version": "3.11.10"
  }
 },
 "nbformat": 4,
 "nbformat_minor": 5
}
