{
 "cells": [
  {
   "cell_type": "markdown",
   "id": "2f0367e8",
   "metadata": {},
   "source": [
    "# Single ARIMAX"
   ]
  },
  {
   "cell_type": "markdown",
   "id": "7ba9ee40",
   "metadata": {},
   "source": [
    "---"
   ]
  },
  {
   "cell_type": "code",
   "execution_count": null,
   "id": "7c9a71a6",
   "metadata": {},
   "outputs": [],
   "source": [
    "# DataFrame\n",
    "import pandas as pd\n",
    "import numpy as np\n",
    "import random\n",
    "from datetime import date\n",
    "\n",
    "# Visualization\n",
    "import matplotlib.pyplot as plt\n",
    "import matplotlib\n",
    "import warnings\n",
    "warnings.simplefilter(action='ignore')\n",
    "\n",
    "# Save the log\n",
    "import os\n",
    "import pickle\n",
    "import time\n",
    "\n",
    "# ARIMA\n",
    "from pmdarima.arima import auto_arima\n",
    "\n",
    "# Metric \n",
    "from sklearn.metrics import root_mean_squared_error\n",
    "from sklearn.metrics import mean_absolute_error\n",
    "from sklearn.metrics import r2_score"
   ]
  },
  {
   "cell_type": "code",
   "execution_count": null,
   "id": "f3c9d801",
   "metadata": {},
   "outputs": [],
   "source": [
    "# set the seed\n",
    "def set_seed(seed: int):\n",
    "    random.seed(seed)\n",
    "    np.random.seed(seed)\n",
    "    os.environ[\"PYTHONHASHSEED\"] = str(seed)"
   ]
  },
  {
   "cell_type": "code",
   "execution_count": null,
   "id": "11f48d9a",
   "metadata": {},
   "outputs": [],
   "source": [
    "# Minus\n",
    "matplotlib.rcParams['axes.unicode_minus'] = False\n",
    "# font\n",
    "plt.rc('font', family='Serif')"
   ]
  },
  {
   "cell_type": "code",
   "execution_count": null,
   "id": "4f71ad79",
   "metadata": {},
   "outputs": [],
   "source": [
    "def split_data(product_df):\n",
    "    \n",
    "    train_df = product_df[product_df['Date']<'2022-08-01'].reset_index(drop=True)\n",
    "    test_df = product_df[product_df['Date']>='2022-08-01'].reset_index(drop=True)\n",
    "    return train_df, test_df"
   ]
  },
  {
   "cell_type": "code",
   "execution_count": null,
   "id": "1c0eafcf",
   "metadata": {},
   "outputs": [],
   "source": [
    "# Rolling Forecasting\n",
    "def ARIMA_single(product_df):\n",
    "\n",
    "    train_df, test_df = split_data(product_df)\n",
    "    features = product_df.drop(['y', 'Date','Product', '년월'], axis=1).columns.tolist()\n",
    "    predictions = []\n",
    "    best_model = auto_arima(train_df['y'], X=train_df[features],\n",
    "                            start_p=1, start_q=1,\n",
    "                            max_p=3, max_q=3, \n",
    "                            max_d=1, trace=True,\n",
    "                            suppress_warnings=True)\n",
    "    \n",
    "    for test_date in test_df['Date']:\n",
    "        print(test_date)\n",
    "        \n",
    "        test_date_prev_1 = test_date - pd.Timedelta(days=1)\n",
    "        train_until_test_df = product_df[product_df['Date'] <= test_date_prev_1]\n",
    "        \n",
    "        best_model_fit = best_model.fit(train_until_test_df['y'], X=train_until_test_df[features])\n",
    "        \n",
    "        # Using exogenous variables of the day before the test date for prediction\n",
    "        exog_for_pred = train_until_test_df[train_until_test_df['Date'] == test_date_prev_1][features].values.reshape(1, -1)\n",
    "        prediction = best_model_fit.predict(n_periods=1, X=exog_for_pred).iloc[0]\n",
    "    \n",
    "        predictions.append(max(0, prediction))\n",
    "\n",
    "    # Create a DataFrame to hold the result\n",
    "    res_df = test_df.copy()\n",
    "    res_df['Pred'] = predictions\n",
    "    res_df.set_index('Date', inplace=True)\n",
    "\n",
    "    # res_df: ['y'','Pred'] index='Date'\n",
    "    return res_df"
   ]
  },
  {
   "cell_type": "code",
   "execution_count": null,
   "id": "60a6dd14",
   "metadata": {},
   "outputs": [],
   "source": [
    "def save_model(product_code, best_model):\n",
    "    today = date.today()\n",
    "    folder_path = 'Result/ARIMAX/Model'\n",
    "    file_name = f'{product_code}_{today.month:02d}{today.day:02d}.pkl'\n",
    "    save_path = os.path.join(folder_path, file_name)\n",
    "    if not os.path.exists(folder_path):\n",
    "        os.makedirs(folder_path)\n",
    "    # save the model\n",
    "    with open(save_path, 'wb') as f:\n",
    "        pickle.dump(best_model, f)\n",
    "    return best_model"
   ]
  },
  {
   "cell_type": "code",
   "execution_count": null,
   "id": "a552f3c1",
   "metadata": {},
   "outputs": [],
   "source": [
    "def load_model(file_name):\n",
    "    file_path = f'Result/ARIMAX/Model/{file_name}'\n",
    "    \n",
    "    with open(file_path, 'rb') as file:\n",
    "        model_dict= pickle.load(file)\n",
    "    \n",
    "    return best_model"
   ]
  },
  {
   "cell_type": "code",
   "execution_count": null,
   "id": "6d8fe2e9",
   "metadata": {},
   "outputs": [],
   "source": [
    "def actual_pred_plot(product_code, res_df, metric_df):\n",
    "    \"\"\"\n",
    "    Plot the actual vs predition and save the figure in the given directory\n",
    "    \"\"\"\n",
    "    save_path = os.path.join(\"Result\", \"ARIMAX\", product_code)\n",
    "    save_name = f'{product_code}_all_result'\n",
    "    \n",
    "    title = f\"Pred Actual Plot - {product_code}\"\n",
    "    actual = res_df['y']\n",
    "    pred = res_df['Pred']\n",
    "\n",
    "    # Plot   \n",
    "    plt.figure(figsize=(16, 8))\n",
    "    plt.title(title, fontsize=20)\n",
    "    plt.xlabel(\"Date\", fontsize=14)\n",
    "    plt.ylabel(\"Order Demand\", fontsize=14)\n",
    "    plt.plot(actual, label ='Actual', color='r')\n",
    "    plt.plot(pred, label='Prediction', color='b')\n",
    "    plt.legend(loc=\"upper right\")\n",
    "        \n",
    "    if not os.path.exists(save_path):\n",
    "        os.makedirs(save_path)\n",
    "    plt.savefig(os.path.join(save_path, save_name+'.png'))\n",
    "    plt.show()\n",
    "    \n",
    "    metric_df.to_csv(os.path.join(save_path, f'{product_code}_metric.csv'), encoding=\"utf-8-sig\")\n",
    "    res_df.to_csv(os.path.join(save_path, f'{product_code}_total_result.csv'), encoding=\"utf-8-sig\")\n",
    "    plt.close('all') # close all figures to free up memory"
   ]
  },
  {
   "cell_type": "markdown",
   "id": "9ddd8454",
   "metadata": {},
   "source": [
    "## Metrics"
   ]
  },
  {
   "cell_type": "code",
   "execution_count": null,
   "id": "28dd74b4",
   "metadata": {},
   "outputs": [],
   "source": [
    "def mape(actual, pred): \n",
    "    actual, pred = np.array(actual), np.array(pred)\n",
    "    return np.mean(np.abs((actual - pred) / (actual+1)))\n",
    "\n",
    "def nrmse(y_true, y_pred):\n",
    "    mse =  root_mean_squared_error(y_true, y_pred)\n",
    "    target_mean = np.mean(y_true)\n",
    "    nrmse = mse / target_mean\n",
    "    return nrmse\n",
    "\n",
    "def nmae(y_true, y_pred):\n",
    "    mae = mean_absolute_error(y_true, y_pred)\n",
    "    target_mean = np.mean(y_true)\n",
    "    nmae = mae / target_mean\n",
    "    return nmae"
   ]
  },
  {
   "cell_type": "code",
   "execution_count": null,
   "id": "83451baa",
   "metadata": {},
   "outputs": [],
   "source": [
    "def calculate_metrics(product_code, res_df):\n",
    "\n",
    "    actual = res_df['y']\n",
    "    pred = res_df['Pred']\n",
    "\n",
    "    MAPE = mape(actual, pred) \n",
    "    RMSE = root_mean_squared_error(actual, pred)\n",
    "    MAE = mean_absolute_error(actual,pred) \n",
    "    NRMSE = nrmse(actual,pred) \n",
    "    NMAE = nmae(actual,pred) \n",
    "    R2 = r2_score(actual, pred)\n",
    "\n",
    "    metric_df = pd.DataFrame({'MAPE':[round(MAPE, 4)],\n",
    "                           'RMSE':[round(RMSE, 4)],\n",
    "                           'MAE':[round(MAE, 4)],\n",
    "                           'NRMSE':[round(NRMSE, 4)],\n",
    "                           'NMAE':[round(NMAE, 4)],\n",
    "                           'R2': [round(R2, 4)]},\n",
    "                            index= [product_code])\n",
    "\n",
    "    return metric_df"
   ]
  },
  {
   "cell_type": "code",
   "execution_count": null,
   "id": "9ce9ab54",
   "metadata": {},
   "outputs": [],
   "source": [
    "def execute_single_ARIMA(product_code):\n",
    "    start_time = time.time()\n",
    "    \n",
    "    product_code = product_code \n",
    "    product_df = df[df['Product']== product_code].reset_index(drop=True)\n",
    "\n",
    "    res_df = ARIMA_single(product_df) \n",
    "\n",
    "    metric_df= calculate_metrics(product_code, res_df)\n",
    "    actual_pred_plot(product_code, res_df, metric_df)\n",
    "    \n",
    "    elapsed_time_seconds = time.time() - start_time\n",
    "    elapsed_time_minutes = elapsed_time_seconds / 60\n",
    "    print(\"실행 시간: {:.2f} 분\".format(elapsed_time_minutes))\n",
    "    return metric_df"
   ]
  },
  {
   "cell_type": "markdown",
   "id": "cd5269ad",
   "metadata": {},
   "source": [
    "---"
   ]
  },
  {
   "cell_type": "code",
   "execution_count": null,
   "id": "7cb711a2",
   "metadata": {},
   "outputs": [],
   "source": [
    "df = pd.read_csv(\"../Data/dataset.csv\")\n",
    "df['Date'] = pd.to_datetime(df['Date'])"
   ]
  },
  {
   "cell_type": "code",
   "execution_count": null,
   "id": "095eda0a",
   "metadata": {
    "scrolled": true
   },
   "outputs": [],
   "source": [
    "set_seed(1234)\n",
    "all_metric = pd.DataFrame()\n",
    "\n",
    "target_code = ['Office Product', 'Packaging material', 'Pharmaceuticals']\n",
    "for code in target_code:\n",
    "    print(\"==================================\")\n",
    "    print(f\"========== { code } ==========\")\n",
    "    print(\"==================================\")\n",
    "    tmp_metric = execute_single_ARIMA(code)\n",
    "    all_metric = pd.concat([all_metric, tmp_metric])"
   ]
  }
 ],
 "metadata": {
  "kernelspec": {
   "display_name": "ts_env_",
   "language": "python",
   "name": "ts_env"
  },
  "language_info": {
   "codemirror_mode": {
    "name": "ipython",
    "version": 3
   },
   "file_extension": ".py",
   "mimetype": "text/x-python",
   "name": "python",
   "nbconvert_exporter": "python",
   "pygments_lexer": "ipython3",
   "version": "3.11.10"
  }
 },
 "nbformat": 4,
 "nbformat_minor": 5
}
