{
 "cells": [
  {
   "cell_type": "markdown",
   "id": "489c0a80",
   "metadata": {},
   "source": [
    "# Single LGBM"
   ]
  },
  {
   "cell_type": "markdown",
   "id": "7c424b3a",
   "metadata": {},
   "source": [
    "---"
   ]
  },
  {
   "cell_type": "code",
   "execution_count": null,
   "id": "7c9a71a6",
   "metadata": {
    "ExecuteTime": {
     "end_time": "2023-09-19T07:11:53.666473Z",
     "start_time": "2023-09-19T07:11:53.570242Z"
    }
   },
   "outputs": [],
   "source": [
    "# DataFrame\n",
    "import pandas as pd\n",
    "import numpy as np\n",
    "import random\n",
    "import time\n",
    "\n",
    "# Visualization\n",
    "import matplotlib.pyplot as plt\n",
    "import matplotlib\n",
    "import seaborn as sns\n",
    "import warnings\n",
    "warnings.simplefilter(action='ignore')\n",
    "\n",
    "# Save the log\n",
    "import os\n",
    "import pickle\n",
    "\n",
    "\n",
    "# LGBM\n",
    "from lightgbm import LGBMRegressor\n",
    "\n",
    "# Metric \n",
    "from sklearn.metrics import root_mean_squared_error\n",
    "from sklearn.metrics import mean_absolute_error\n",
    "from sklearn.metrics import r2_score"
   ]
  },
  {
   "cell_type": "code",
   "execution_count": null,
   "id": "6a15a950",
   "metadata": {},
   "outputs": [],
   "source": [
    "# set the seed\n",
    "def set_seed(seed: int):\n",
    "    random.seed(seed)\n",
    "    np.random.seed(seed)\n",
    "    os.environ[\"PYTHONHASHSEED\"] = str(seed)"
   ]
  },
  {
   "cell_type": "code",
   "execution_count": null,
   "id": "11f48d9a",
   "metadata": {
    "ExecuteTime": {
     "end_time": "2023-09-19T07:11:54.762119Z",
     "start_time": "2023-09-19T07:11:54.752161Z"
    }
   },
   "outputs": [],
   "source": [
    "# Minus\n",
    "matplotlib.rcParams['axes.unicode_minus'] = False\n",
    "# font\n",
    "plt.rc('font', family='Serif')"
   ]
  },
  {
   "cell_type": "code",
   "execution_count": null,
   "id": "4f71ad79",
   "metadata": {
    "ExecuteTime": {
     "end_time": "2023-09-19T07:11:57.182093Z",
     "start_time": "2023-09-19T07:11:57.177128Z"
    }
   },
   "outputs": [],
   "source": [
    "def split_data(product_df):\n",
    "    \n",
    "    train_df = product_df[product_df['Date']<'2022-08-01'].reset_index(drop=True)\n",
    "    test_df = product_df[product_df['Date']>='2022-08-01'].reset_index(drop=True)\n",
    "    return train_df, test_df"
   ]
  },
  {
   "cell_type": "code",
   "execution_count": null,
   "id": "1c0eafcf",
   "metadata": {
    "ExecuteTime": {
     "end_time": "2023-09-19T07:11:57.561817Z",
     "start_time": "2023-09-19T07:11:57.560246Z"
    }
   },
   "outputs": [],
   "source": [
    "# Rolling Forecasting\n",
    "def LGBM_single(target_df):\n",
    "\n",
    "    train_df, test_df = split_data(target_df)\n",
    "\n",
    "    predictions = []\n",
    "    lgbm_model = LGBMRegressor()\n",
    "    \n",
    "    for test_date in test_df['Date']:\n",
    "        # Use data up to the day before the test date to train the model\n",
    "        train_until_test_df = target_df[target_df['Date'] < test_date]\n",
    "\n",
    "        X = train_until_test_df.drop(columns = ['Date', 'y', 'Product'])\n",
    "        y = train_until_test_df['y']\n",
    "\n",
    "        # fitting the model \n",
    "        best_model_fit = lgbm_model.fit(X, y)\n",
    "        \n",
    "        test_X = target_df[target_df['Date'] == test_date]\n",
    "        test_X = test_X.drop(columns = ['Date', 'y', 'Product'])\n",
    "\n",
    "        prediction = best_model_fit.predict(test_X)[0]\n",
    "        predictions.append(max(0, prediction))  # replace negative predictions with 0\n",
    "\n",
    "    # Create a DataFrame to hold the result\n",
    "    res_df = test_df.copy()\n",
    "    res_df['Pred'] = predictions\n",
    "    res_df.set_index('Date', inplace=True)\n",
    "\n",
    "    # res_df: ['y'','Pred'] index='Date'\n",
    "    return res_df"
   ]
  },
  {
   "cell_type": "code",
   "execution_count": null,
   "id": "60a6dd14",
   "metadata": {
    "ExecuteTime": {
     "end_time": "2023-09-19T07:11:57.981058Z",
     "start_time": "2023-09-19T07:11:57.975881Z"
    }
   },
   "outputs": [],
   "source": [
    "def save_model(product_code, best_model):\n",
    "    \n",
    "    folder_path = 'Result\\LGBM\\Model'\n",
    "    file_name = f'{product_code}.pkl'\n",
    "    save_path = os.path.join(folder_path, file_name)\n",
    "    if not os.path.exists(folder_path):\n",
    "        os.makedirs(folder_path)\n",
    "  \n",
    "    with open(save_path, 'wb') as f:\n",
    "        pickle.dump(best_model, f)\n",
    "    return best_model"
   ]
  },
  {
   "cell_type": "code",
   "execution_count": null,
   "id": "a552f3c1",
   "metadata": {
    "ExecuteTime": {
     "end_time": "2023-09-19T07:11:58.251062Z",
     "start_time": "2023-09-19T07:11:58.240730Z"
    }
   },
   "outputs": [],
   "source": [
    "def load_model(file_name):\n",
    "    file_path = f'Result/LGBM/Model/{file_name}.pkl'\n",
    "    \n",
    "    with open(file_path, 'rb') as file:\n",
    "        best_model= pickle.load(file)\n",
    "    \n",
    "    return best_model "
   ]
  },
  {
   "cell_type": "code",
   "execution_count": null,
   "id": "6d8fe2e9",
   "metadata": {
    "ExecuteTime": {
     "end_time": "2023-09-19T07:11:58.537603Z",
     "start_time": "2023-09-19T07:11:58.531766Z"
    }
   },
   "outputs": [],
   "source": [
    "def actual_pred_plot(product_code, res_df, metric_df):\n",
    "    \"\"\"\n",
    "    Plot the actual vs predition and save the figure in the given directory\n",
    "    \"\"\"\n",
    "    save_path = os.path.join(\"Result\", \"LGBM\", product_code)\n",
    "    save_name = f'{product_code}'\n",
    "    \n",
    "    title = f\"Pred Actual Plot - {product_code}\"\n",
    "    actual = res_df['y']\n",
    "    pred = res_df['Pred']\n",
    "\n",
    "    # Plot   \n",
    "    plt.figure(figsize=(16, 8))\n",
    "    plt.title(title, fontsize=20)\n",
    "    plt.xlabel(\"Date\", fontsize=14)\n",
    "    plt.ylabel(\"Order Demand\", fontsize=14)\n",
    "    plt.plot(actual, label ='Actual', color='r')\n",
    "    plt.plot(pred, label='Prediction', color='b')\n",
    "    plt.legend(loc=\"upper right\")\n",
    "        \n",
    "    # Plot 결과 저장\n",
    "    if not os.path.exists(save_path):\n",
    "        os.makedirs(save_path)\n",
    "    # save the figure\n",
    "    plt.savefig(os.path.join(save_path, save_name+'_plot'+'.png'))\n",
    "    plt.show()\n",
    "    \n",
    "    # 전체 결과에 대한 Metric도 함께 저장\n",
    "    metric_df.to_csv(os.path.join(save_path, save_name+'_metric.csv'), encoding=\"utf-8-sig\")\n",
    "    plt.close('all') # close all figures to free up memory"
   ]
  },
  {
   "cell_type": "code",
   "execution_count": null,
   "id": "28dd74b4",
   "metadata": {
    "ExecuteTime": {
     "end_time": "2023-09-19T07:11:58.926786Z",
     "start_time": "2023-09-19T07:11:58.922941Z"
    }
   },
   "outputs": [],
   "source": [
    "def mape(actual, pred): \n",
    "    actual, pred = np.array(actual), np.array(pred)\n",
    "    return np.mean(np.abs((actual - pred) / (actual+1)))\n",
    "\n",
    "def nrmse(y_true, y_pred):\n",
    "    mse = root_mean_squared_error(y_true, y_pred)\n",
    "    target_mean = np.mean(y_true)\n",
    "    nrmse = mse / target_mean\n",
    "    return nrmse\n",
    "\n",
    "def nmae(y_true, y_pred):\n",
    "    mae = mean_absolute_error(y_true, y_pred)\n",
    "    target_mean = np.mean(y_true)\n",
    "    nmae = mae / target_mean\n",
    "    return nmae"
   ]
  },
  {
   "cell_type": "code",
   "execution_count": null,
   "id": "83451baa",
   "metadata": {
    "ExecuteTime": {
     "end_time": "2023-09-19T07:11:59.211044Z",
     "start_time": "2023-09-19T07:11:59.202219Z"
    }
   },
   "outputs": [],
   "source": [
    "def calculate_metrics(product_code, res_df):\n",
    "\n",
    "    actual = res_df['y']\n",
    "    pred = res_df['Pred']\n",
    "\n",
    "    MAPE = mape(actual, pred) \n",
    "    RMSE = root_mean_squared_error(actual, pred)\n",
    "    MAE = mean_absolute_error(actual,pred) \n",
    "    NRMSE = nrmse(actual,pred) \n",
    "    NMAE = nmae(actual,pred) \n",
    "    R2 = r2_score(actual, pred)\n",
    "    \n",
    "    metric_df = pd.DataFrame({'MAPE':[round(MAPE, 4)],\n",
    "                           'RMSE':[round(RMSE, 4)],\n",
    "                           'MAE':[round(MAE, 4)],\n",
    "                           'NRMSE':[round(NRMSE, 4)],\n",
    "                           'NMAE':[round(NMAE, 4)],\n",
    "                           'R2': [round(R2, 4)]},\n",
    "                            index= [product_code])\n",
    "\n",
    "    return metric_df"
   ]
  },
  {
   "cell_type": "code",
   "execution_count": null,
   "id": "9ce9ab54",
   "metadata": {
    "ExecuteTime": {
     "end_time": "2023-09-19T07:11:59.721932Z",
     "start_time": "2023-09-19T07:11:59.718035Z"
    }
   },
   "outputs": [],
   "source": [
    "def execute_single_LGBM(df, product_code, str_product_code):\n",
    "    start_time = time.time()\n",
    "    \n",
    "    product_code = product_code\n",
    "    product_df = df[df['Product']== product_code].reset_index(drop=True)\n",
    "\n",
    " \n",
    "    res_df = LGBM_single(product_df) \n",
    "    #save_model(product_code, best_model)\n",
    "\n",
    "    metric_df= calculate_metrics(product_code, res_df)\n",
    "\n",
    "    actual_pred_plot(str_product_code, res_df, metric_df)\n",
    "    \n",
    "    elapsed_time_seconds = time.time() - start_time\n",
    "    elapsed_time_minutes = elapsed_time_seconds / 60\n",
    "    print(\"실행 시간: {:.2f} 분\".format(elapsed_time_minutes))\n",
    "    return metric_df, res_df"
   ]
  },
  {
   "cell_type": "markdown",
   "id": "cd5269ad",
   "metadata": {},
   "source": [
    "---"
   ]
  },
  {
   "cell_type": "code",
   "execution_count": null,
   "id": "e6c8f1d3",
   "metadata": {
    "ExecuteTime": {
     "end_time": "2023-09-19T07:12:00.343218Z",
     "start_time": "2023-09-19T07:12:00.330159Z"
    }
   },
   "outputs": [],
   "source": [
    "df = pd.read_csv(\"../Data/dataset.csv\")\n",
    "df['Date'] = pd.to_datetime(df['Date'])\n",
    "df = df.drop(columns=['년월'])"
   ]
  },
  {
   "cell_type": "code",
   "execution_count": null,
   "id": "095eda0a",
   "metadata": {
    "ExecuteTime": {
     "end_time": "2023-09-19T07:13:36.447363Z",
     "start_time": "2023-09-19T07:12:01.181030Z"
    },
    "scrolled": true
   },
   "outputs": [],
   "source": [
    "set_seed(1234)\n",
    "\n",
    "metric_df = pd.DataFrame()\n",
    "result_df = pd.DataFrame()\n",
    "\n",
    "target_code = ['Office Product', 'Packaging material', 'Pharmaceuticals']\n",
    "for code in target_code:\n",
    "\n",
    "    print(\"==================================\")\n",
    "    print(f\"========== { code } ==========\")\n",
    "    print(\"==================================\")\n",
    "\n",
    "    all_metric, all_result = execute_single_LGBM(df, code, str(code))\n",
    "\n",
    "    metric_df = pd.concat([metric_df, all_metric])\n",
    "    result_df = pd.concat([result_df, all_result], ignore_index=True)\n",
    "metric_df"
   ]
  }
 ],
 "metadata": {
  "kernelspec": {
   "display_name": "ts_env_",
   "language": "python",
   "name": "ts_env"
  },
  "language_info": {
   "codemirror_mode": {
    "name": "ipython",
    "version": 3
   },
   "file_extension": ".py",
   "mimetype": "text/x-python",
   "name": "python",
   "nbconvert_exporter": "python",
   "pygments_lexer": "ipython3",
   "version": "3.11.10"
  }
 },
 "nbformat": 4,
 "nbformat_minor": 5
}
